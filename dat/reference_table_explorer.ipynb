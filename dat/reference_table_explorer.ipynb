{
 "cells": [
  {
   "cell_type": "code",
   "execution_count": 1,
   "id": "1a47d40a-19fc-4b17-b252-d88f96e2207e",
   "metadata": {},
   "outputs": [],
   "source": [
    "import pyspark\n",
    "from delta import *"
   ]
  },
  {
   "cell_type": "code",
   "execution_count": 2,
   "id": "3bff0687-6d7b-4933-87ec-0934cd3ad7ed",
   "metadata": {},
   "outputs": [],
   "source": [
    "builder = (\n",
    "    pyspark.sql.SparkSession.builder.appName(\"MyApp\")\n",
    "    .config(\"spark.sql.extensions\", \"io.delta.sql.DeltaSparkSessionExtension\")\n",
    "    .config(\n",
    "        \"spark.sql.catalog.spark_catalog\",\n",
    "        \"org.apache.spark.sql.delta.catalog.DeltaCatalog\",\n",
    "    )\n",
    ")"
   ]
  },
  {
   "cell_type": "code",
   "execution_count": 3,
   "id": "1815673a-0df0-454d-ac62-f8ddac43f2a9",
   "metadata": {},
   "outputs": [
    {
     "name": "stdout",
     "output_type": "stream",
     "text": [
      ":: loading settings :: url = jar:file:/Users/matthew.powers/opt/miniconda3/envs/pyspark-322-delta-200/lib/python3.9/site-packages/pyspark/jars/ivy-2.5.0.jar!/org/apache/ivy/core/settings/ivysettings.xml\n"
     ]
    },
    {
     "name": "stderr",
     "output_type": "stream",
     "text": [
      "Ivy Default Cache set to: /Users/matthew.powers/.ivy2/cache\n",
      "The jars for the packages stored in: /Users/matthew.powers/.ivy2/jars\n",
      "io.delta#delta-core_2.12 added as a dependency\n",
      ":: resolving dependencies :: org.apache.spark#spark-submit-parent-9edfb4db-ee03-4511-9fb5-7c2780e7ee1c;1.0\n",
      "\tconfs: [default]\n",
      "\tfound io.delta#delta-core_2.12;2.0.0 in central\n",
      "\tfound io.delta#delta-storage;2.0.0 in central\n",
      "\tfound org.antlr#antlr4-runtime;4.8 in central\n",
      "\tfound org.codehaus.jackson#jackson-core-asl;1.9.13 in central\n",
      ":: resolution report :: resolve 310ms :: artifacts dl 25ms\n",
      "\t:: modules in use:\n",
      "\tio.delta#delta-core_2.12;2.0.0 from central in [default]\n",
      "\tio.delta#delta-storage;2.0.0 from central in [default]\n",
      "\torg.antlr#antlr4-runtime;4.8 from central in [default]\n",
      "\torg.codehaus.jackson#jackson-core-asl;1.9.13 from central in [default]\n",
      "\t---------------------------------------------------------------------\n",
      "\t|                  |            modules            ||   artifacts   |\n",
      "\t|       conf       | number| search|dwnlded|evicted|| number|dwnlded|\n",
      "\t---------------------------------------------------------------------\n",
      "\t|      default     |   4   |   0   |   0   |   0   ||   4   |   0   |\n",
      "\t---------------------------------------------------------------------\n",
      ":: retrieving :: org.apache.spark#spark-submit-parent-9edfb4db-ee03-4511-9fb5-7c2780e7ee1c\n",
      "\tconfs: [default]\n",
      "\t0 artifacts copied, 4 already retrieved (0kB/12ms)\n",
      "22/08/10 22:12:15 WARN NativeCodeLoader: Unable to load native-hadoop library for your platform... using builtin-java classes where applicable\n",
      "Using Spark's default log4j profile: org/apache/spark/log4j-defaults.properties\n",
      "Setting default log level to \"WARN\".\n",
      "To adjust logging level use sc.setLogLevel(newLevel). For SparkR, use setLogLevel(newLevel).\n"
     ]
    }
   ],
   "source": [
    "spark = configure_spark_with_delta_pip(builder).getOrCreate()"
   ]
  },
  {
   "cell_type": "markdown",
   "id": "79404fc7-f5d9-4e14-b975-fdedd69c51ee",
   "metadata": {},
   "source": [
    "## reference_table1"
   ]
  },
  {
   "cell_type": "code",
   "execution_count": 4,
   "id": "a5c2fbe3-8a41-4d1a-8054-bb292a0a40ce",
   "metadata": {},
   "outputs": [
    {
     "name": "stderr",
     "output_type": "stream",
     "text": [
      "                                                                                \r"
     ]
    }
   ],
   "source": [
    "ref_df = spark.read.format(\"delta\").load(\"./reference_tables/reference_table1/table\")"
   ]
  },
  {
   "cell_type": "code",
   "execution_count": 5,
   "id": "1683c4d3-f9c9-4cfd-9440-5a7487bea400",
   "metadata": {},
   "outputs": [
    {
     "name": "stderr",
     "output_type": "stream",
     "text": [
      "                                                                                \r"
     ]
    },
    {
     "name": "stdout",
     "output_type": "stream",
     "text": [
      "+------+------+-------+\n",
      "|letter|number|a_float|\n",
      "+------+------+-------+\n",
      "|     a|     1|    1.1|\n",
      "|     d|     4|    4.4|\n",
      "|     b|     2|    2.2|\n",
      "|     c|     3|    3.3|\n",
      "|     e|     5|    5.5|\n",
      "+------+------+-------+\n",
      "\n"
     ]
    }
   ],
   "source": [
    "ref_df.show()"
   ]
  },
  {
   "cell_type": "code",
   "execution_count": 6,
   "id": "0decf7d1-9426-4b88-8ce9-84372b611d25",
   "metadata": {},
   "outputs": [
    {
     "name": "stdout",
     "output_type": "stream",
     "text": [
      "+------+------+-------+\n",
      "|letter|number|a_float|\n",
      "+------+------+-------+\n",
      "|     a|     1|    1.1|\n",
      "|     d|     4|    4.4|\n",
      "|     b|     2|    2.2|\n",
      "|     c|     3|    3.3|\n",
      "|     e|     5|    5.5|\n",
      "+------+------+-------+\n",
      "\n"
     ]
    }
   ],
   "source": [
    "spark.read.parquet(\"./reference_tables/reference_table1/table_content.parquet\").show()"
   ]
  },
  {
   "cell_type": "markdown",
   "id": "72a6bcdd-27d5-4457-8d6a-9a20fa3992b5",
   "metadata": {},
   "source": [
    "## reference_table2"
   ]
  },
  {
   "cell_type": "code",
   "execution_count": 7,
   "id": "e48affbe-f5c9-449c-bb89-ef43e5448235",
   "metadata": {},
   "outputs": [
    {
     "name": "stderr",
     "output_type": "stream",
     "text": [
      "                                                                                \r"
     ]
    }
   ],
   "source": [
    "ref_df = spark.read.format(\"delta\").load(\"./reference_tables/reference_table2/table\")"
   ]
  },
  {
   "cell_type": "code",
   "execution_count": 8,
   "id": "9c1eb6d5-b591-47b1-80b5-e0b535a52658",
   "metadata": {},
   "outputs": [
    {
     "name": "stdout",
     "output_type": "stream",
     "text": [
      "+------+------+-------+\n",
      "|letter|number|a_float|\n",
      "+------+------+-------+\n",
      "|     a|     1|    1.1|\n",
      "|     a|     4|    4.4|\n",
      "|     a|     2|    2.2|\n",
      "|     c|     3|    3.3|\n",
      "|     e|     5|    5.5|\n",
      "+------+------+-------+\n",
      "\n"
     ]
    }
   ],
   "source": [
    "ref_df.show()"
   ]
  },
  {
   "cell_type": "code",
   "execution_count": 9,
   "id": "9bad4f85-d955-40df-8a69-4ea98e869607",
   "metadata": {},
   "outputs": [
    {
     "name": "stdout",
     "output_type": "stream",
     "text": [
      "+------+------+-------+\n",
      "|letter|number|a_float|\n",
      "+------+------+-------+\n",
      "|     a|     1|    1.1|\n",
      "|     a|     4|    4.4|\n",
      "|     a|     2|    2.2|\n",
      "|     c|     3|    3.3|\n",
      "|     e|     5|    5.5|\n",
      "+------+------+-------+\n",
      "\n"
     ]
    }
   ],
   "source": [
    "spark.read.parquet(\"./reference_tables/reference_table2/table_content.parquet\").show()"
   ]
  },
  {
   "cell_type": "code",
   "execution_count": null,
   "id": "09fb3a2d-1e94-42df-89d1-22fabbcdd0e2",
   "metadata": {},
   "outputs": [],
   "source": []
  }
 ],
 "metadata": {
  "kernelspec": {
   "display_name": "Python [conda env:pyspark-322-delta-200] *",
   "language": "python",
   "name": "conda-env-pyspark-322-delta-200-py"
  },
  "language_info": {
   "codemirror_mode": {
    "name": "ipython",
    "version": 3
   },
   "file_extension": ".py",
   "mimetype": "text/x-python",
   "name": "python",
   "nbconvert_exporter": "python",
   "pygments_lexer": "ipython3",
   "version": "3.9.13"
  }
 },
 "nbformat": 4,
 "nbformat_minor": 5
}
